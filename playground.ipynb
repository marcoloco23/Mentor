{
 "cells": [
  {
   "cell_type": "code",
   "execution_count": 4,
   "metadata": {},
   "outputs": [
    {
     "name": "stderr",
     "output_type": "stream",
     "text": [
      "2025-05-06 21:00:59,780 [INFO] httpx: HTTP Request: GET https://api.mem0.ai/v1/ping/ \"HTTP/1.1 200 OK\"\n",
      "2025-05-06 21:00:59,781 [INFO] MentorBoot: Initialized MemoryClient (mem0)\n",
      "2025-05-06 21:00:59,790 [INFO] MentorBoot: Initialized OpenAI client\n"
     ]
    }
   ],
   "source": [
    "\"\"\"\n",
    "Initializes and wires up the core dependencies for the Mentor agent, including memory and LLM clients.\n",
    "This module is intended to be imported by entry points to provide ready-to-use, preconfigured components.\n",
    "\"\"\"\n",
    "\n",
    "from mem0 import MemoryClient\n",
    "from openai import OpenAI\n",
    "import os\n",
    "import dotenv\n",
    "import logging\n",
    "\n",
    "from src.memory import MemoryManager\n",
    "from src.llm import LLMClient\n",
    "\n",
    "# Load environment variables\n",
    "dotenv.load_dotenv()\n",
    "\n",
    "# Configure logging\n",
    "logging.basicConfig(\n",
    "    level=logging.INFO,\n",
    "    format=\"%(asctime)s [%(levelname)s] %(name)s: %(message)s\",\n",
    ")\n",
    "logger = logging.getLogger(\"MentorBoot\")\n",
    "\n",
    "# Initialize API clients\n",
    "mem0 = MemoryClient(os.environ[\"MEM0_API_KEY\"])\n",
    "logger.info(\"Initialized MemoryClient (mem0)\")\n",
    "\n",
    "openai = OpenAI(api_key=os.environ[\"OPENAI_API_KEY\"])\n",
    "logger.info(\"Initialized OpenAI client\")\n",
    "\n",
    "# Create and export core components\n",
    "memory_manager = MemoryManager(mem0)\n",
    "llm_client = LLMClient(openai)"
   ]
  },
  {
   "cell_type": "code",
   "execution_count": 5,
   "metadata": {},
   "outputs": [
    {
     "name": "stderr",
     "output_type": "stream",
     "text": [
      "2025-05-06 21:01:06,983 [INFO] MentorMemory: Retrieving memories for query: 'Test' and user_id: user1\n",
      "2025-05-06 21:01:07,812 [INFO] httpx: HTTP Request: POST https://api.mem0.ai/v2/memories/search/ \"HTTP/1.1 200 OK\"\n",
      "2025-05-06 21:01:07,814 [INFO] MentorMemory: Retrieved 4 raw hits from memory search\n"
     ]
    },
    {
     "data": {
      "text/plain": [
       "'2025-05-06 (Tue)\\n  • 20:53 – Values authenticity, self-awareness, and meaningful connections\\n  • 20:53 – Describes self as caring, understanding, honest, empathetic, and deeply curious\\n  • 20:53 – Seeks truth both in the universe and within self\\n  • 20:53 – Is a physicist with a deep passion for quantum gravity, especially the emergence of space from quantum entanglement'"
      ]
     },
     "execution_count": 5,
     "metadata": {},
     "output_type": "execute_result"
    }
   ],
   "source": [
    "memory_manager.retrieve(query=\"Test\", user_id=\"user1\", k=5, version=\"v2\")"
   ]
  },
  {
   "cell_type": "code",
   "execution_count": null,
   "metadata": {},
   "outputs": [],
   "source": []
  }
 ],
 "metadata": {
  "kernelspec": {
   "display_name": "ai",
   "language": "python",
   "name": "python3"
  },
  "language_info": {
   "codemirror_mode": {
    "name": "ipython",
    "version": 3
   },
   "file_extension": ".py",
   "mimetype": "text/x-python",
   "name": "python",
   "nbconvert_exporter": "python",
   "pygments_lexer": "ipython3",
   "version": "3.12.9"
  }
 },
 "nbformat": 4,
 "nbformat_minor": 2
}
