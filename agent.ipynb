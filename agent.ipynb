{
 "cells": [
  {
   "cell_type": "code",
   "execution_count": 1,
   "metadata": {},
   "outputs": [
    {
     "name": "stderr",
     "output_type": "stream",
     "text": [
      "2025-05-02 15:45:44,625 [INFO] httpx: HTTP Request: GET https://api.mem0.ai/v1/ping/ \"HTTP/1.1 200 OK\"\n",
      "2025-05-02 15:45:44,627 [INFO] MentorBoot: Initialized MemoryClient (mem0)\n",
      "2025-05-02 15:45:44,637 [INFO] MentorBoot: Initialized OpenAI client\n",
      "2025-05-02 15:45:44,638 [INFO] MentorAgent: Initialized Mentor for user_id=u42, agent_id=mentor, k=5\n"
     ]
    }
   ],
   "source": [
    "from src.mentor import Mentor\n",
    "from boot import memory_manager, llm_client\n",
    "\n",
    "mentor = Mentor(memory_manager, llm_client, user_id=\"u42\")"
   ]
  },
  {
   "cell_type": "code",
   "execution_count": 3,
   "metadata": {},
   "outputs": [
    {
     "name": "stderr",
     "output_type": "stream",
     "text": [
      "2025-05-02 15:46:04,762 [INFO] MentorAgent: Received user message: Who am I?\n",
      "2025-05-02 15:46:04,763 [INFO] MentorMemory: Retrieving memories for query: 'Who am I?'\n",
      "2025-05-02 15:46:05,672 [INFO] httpx: HTTP Request: POST https://api.mem0.ai/v2/memories/search/ \"HTTP/1.1 200 OK\"\n",
      "2025-05-02 15:46:05,676 [INFO] MentorLLM: Invoking LLM chat completion\n",
      "2025-05-02 15:46:07,350 [INFO] httpx: HTTP Request: POST https://api.openai.com/v1/chat/completions \"HTTP/1.1 200 OK\"\n",
      "2025-05-02 15:46:07,355 [INFO] MentorLLM: LLM chat completion received\n",
      "2025-05-02 15:46:07,356 [INFO] MentorMemory: Storing conversation to memory\n",
      "/opt/anaconda3/envs/ai/lib/python3.12/site-packages/mem0/client/main.py:33: DeprecationWarning: output_format='v1.0' is deprecated therefore setting it to 'v1.1' by default.Check out the docs for more information: https://docs.mem0.ai/platform/quickstart#4-1-create-memories\n",
      "  return func(*args, **kwargs)\n",
      "2025-05-02 15:46:15,730 [INFO] httpx: HTTP Request: POST https://api.mem0.ai/v1/memories/ \"HTTP/1.1 200 OK\"\n",
      "2025-05-02 15:46:15,732 [INFO] MentorMemory: Conversation stored successfully\n",
      "2025-05-02 15:46:15,733 [INFO] MentorAgent: Generated reply: You’re a physicist with a strong grasp of quantum mechanics and general relativity. Your main interest lies in exploring how space emerges from quantum entanglement. What specifically draws you to that area of research?\n"
     ]
    },
    {
     "name": "stdout",
     "output_type": "stream",
     "text": [
      "Mentor ▸ You’re a physicist with a strong grasp of quantum mechanics and general relativity. Your main interest lies in exploring how space emerges from quantum entanglement. What specifically draws you to that area of research?\n"
     ]
    },
    {
     "name": "stderr",
     "output_type": "stream",
     "text": [
      "2025-05-02 15:46:28,068 [INFO] MentorAgent: Received user message: \n",
      "2025-05-02 15:46:28,069 [INFO] MentorMemory: Retrieving memories for query: ''\n",
      "2025-05-02 15:46:28,694 [INFO] httpx: HTTP Request: POST https://api.mem0.ai/v2/memories/search/ \"HTTP/1.1 400 Bad Request\"\n",
      "2025-05-02 15:46:28,696 [ERROR] mem0.client.main: HTTP error occurred: Client error '400 Bad Request' for url 'https://api.mem0.ai/v2/memories/search/'\n",
      "For more information check: https://developer.mozilla.org/en-US/docs/Web/HTTP/Status/400\n"
     ]
    },
    {
     "ename": "APIError",
     "evalue": "API request failed: {\"query\":[\"This field may not be blank.\"]}",
     "output_type": "error",
     "traceback": [
      "\u001b[31m---------------------------------------------------------------------------\u001b[39m",
      "\u001b[31mHTTPStatusError\u001b[39m                           Traceback (most recent call last)",
      "\u001b[36mFile \u001b[39m\u001b[32m/opt/anaconda3/envs/ai/lib/python3.12/site-packages/mem0/client/main.py:33\u001b[39m, in \u001b[36mapi_error_handler.<locals>.wrapper\u001b[39m\u001b[34m(*args, **kwargs)\u001b[39m\n\u001b[32m     32\u001b[39m \u001b[38;5;28;01mtry\u001b[39;00m:\n\u001b[32m---> \u001b[39m\u001b[32m33\u001b[39m     \u001b[38;5;28;01mreturn\u001b[39;00m \u001b[43mfunc\u001b[49m\u001b[43m(\u001b[49m\u001b[43m*\u001b[49m\u001b[43margs\u001b[49m\u001b[43m,\u001b[49m\u001b[43m \u001b[49m\u001b[43m*\u001b[49m\u001b[43m*\u001b[49m\u001b[43mkwargs\u001b[49m\u001b[43m)\u001b[49m\n\u001b[32m     34\u001b[39m \u001b[38;5;28;01mexcept\u001b[39;00m httpx.HTTPStatusError \u001b[38;5;28;01mas\u001b[39;00m e:\n",
      "\u001b[36mFile \u001b[39m\u001b[32m/opt/anaconda3/envs/ai/lib/python3.12/site-packages/mem0/client/main.py:224\u001b[39m, in \u001b[36mMemoryClient.search\u001b[39m\u001b[34m(self, query, version, **kwargs)\u001b[39m\n\u001b[32m    223\u001b[39m response = \u001b[38;5;28mself\u001b[39m.client.post(\u001b[33mf\u001b[39m\u001b[33m\"\u001b[39m\u001b[33m/\u001b[39m\u001b[38;5;132;01m{\u001b[39;00mversion\u001b[38;5;132;01m}\u001b[39;00m\u001b[33m/memories/search/\u001b[39m\u001b[33m\"\u001b[39m, json=payload)\n\u001b[32m--> \u001b[39m\u001b[32m224\u001b[39m \u001b[43mresponse\u001b[49m\u001b[43m.\u001b[49m\u001b[43mraise_for_status\u001b[49m\u001b[43m(\u001b[49m\u001b[43m)\u001b[49m\n\u001b[32m    225\u001b[39m \u001b[38;5;28;01mif\u001b[39;00m \u001b[33m\"\u001b[39m\u001b[33mmetadata\u001b[39m\u001b[33m\"\u001b[39m \u001b[38;5;129;01min\u001b[39;00m kwargs:\n",
      "\u001b[36mFile \u001b[39m\u001b[32m/opt/anaconda3/envs/ai/lib/python3.12/site-packages/httpx/_models.py:829\u001b[39m, in \u001b[36mResponse.raise_for_status\u001b[39m\u001b[34m(self)\u001b[39m\n\u001b[32m    828\u001b[39m message = message.format(\u001b[38;5;28mself\u001b[39m, error_type=error_type)\n\u001b[32m--> \u001b[39m\u001b[32m829\u001b[39m \u001b[38;5;28;01mraise\u001b[39;00m HTTPStatusError(message, request=request, response=\u001b[38;5;28mself\u001b[39m)\n",
      "\u001b[31mHTTPStatusError\u001b[39m: Client error '400 Bad Request' for url 'https://api.mem0.ai/v2/memories/search/'\nFor more information check: https://developer.mozilla.org/en-US/docs/Web/HTTP/Status/400",
      "\nDuring handling of the above exception, another exception occurred:\n",
      "\u001b[31mAPIError\u001b[39m                                  Traceback (most recent call last)",
      "\u001b[36mCell\u001b[39m\u001b[36m \u001b[39m\u001b[32mIn[3]\u001b[39m\u001b[32m, line 3\u001b[39m\n\u001b[32m      1\u001b[39m \u001b[38;5;28;01mwhile\u001b[39;00m \u001b[38;5;28;01mTrue\u001b[39;00m:\n\u001b[32m      2\u001b[39m     msg = \u001b[38;5;28minput\u001b[39m(\u001b[33m\"\u001b[39m\u001b[33mYou ▸ \u001b[39m\u001b[33m\"\u001b[39m)\n\u001b[32m----> \u001b[39m\u001b[32m3\u001b[39m     \u001b[38;5;28mprint\u001b[39m(\u001b[33m\"\u001b[39m\u001b[33mMentor ▸\u001b[39m\u001b[33m\"\u001b[39m, \u001b[43mmentor\u001b[49m\u001b[43m(\u001b[49m\u001b[43mmsg\u001b[49m\u001b[43m)\u001b[49m)\n",
      "\u001b[36mFile \u001b[39m\u001b[32m~/Local Documents/Business/Mentor/src/mentor.py:35\u001b[39m, in \u001b[36mMentor.__call__\u001b[39m\u001b[34m(self, user_msg)\u001b[39m\n\u001b[32m     33\u001b[39m \u001b[38;5;28;01mdef\u001b[39;00m\u001b[38;5;250m \u001b[39m\u001b[34m__call__\u001b[39m(\u001b[38;5;28mself\u001b[39m, user_msg: \u001b[38;5;28mstr\u001b[39m) -> \u001b[38;5;28mstr\u001b[39m:\n\u001b[32m     34\u001b[39m     logger.info(\u001b[33mf\u001b[39m\u001b[33m\"\u001b[39m\u001b[33mReceived user message: \u001b[39m\u001b[38;5;132;01m{\u001b[39;00muser_msg\u001b[38;5;132;01m}\u001b[39;00m\u001b[33m\"\u001b[39m)\n\u001b[32m---> \u001b[39m\u001b[32m35\u001b[39m     mem_text = \u001b[38;5;28;43mself\u001b[39;49m\u001b[43m.\u001b[49m\u001b[43mmemory\u001b[49m\u001b[43m.\u001b[49m\u001b[43mretrieve\u001b[49m\u001b[43m(\u001b[49m\u001b[43muser_msg\u001b[49m\u001b[43m,\u001b[49m\u001b[43m \u001b[49m\u001b[38;5;28;43mself\u001b[39;49m\u001b[43m.\u001b[49m\u001b[43muser_id\u001b[49m\u001b[43m,\u001b[49m\u001b[43m \u001b[49m\u001b[38;5;28;43mself\u001b[39;49m\u001b[43m.\u001b[49m\u001b[43mk\u001b[49m\u001b[43m,\u001b[49m\u001b[43m \u001b[49m\u001b[38;5;28;43mself\u001b[39;49m\u001b[43m.\u001b[49m\u001b[43mversion\u001b[49m\u001b[43m)\u001b[49m\n\u001b[32m     36\u001b[39m     reply = \u001b[38;5;28mself\u001b[39m.llm.chat(user_msg, mem_text)\n\u001b[32m     37\u001b[39m     \u001b[38;5;28mself\u001b[39m.memory.store(user_msg, reply, \u001b[38;5;28mself\u001b[39m.user_id, \u001b[38;5;28mself\u001b[39m.agent_id)\n",
      "\u001b[36mFile \u001b[39m\u001b[32m~/Local Documents/Business/Mentor/src/memory.py:31\u001b[39m, in \u001b[36mMemoryManager.retrieve\u001b[39m\u001b[34m(self, query, user_id, k, version)\u001b[39m\n\u001b[32m     27\u001b[39m \u001b[38;5;250m\u001b[39m\u001b[33;03m\"\"\"\u001b[39;00m\n\u001b[32m     28\u001b[39m \u001b[33;03mReturn memories grouped by local date with time-stamped bullets.\u001b[39;00m\n\u001b[32m     29\u001b[39m \u001b[33;03m\"\"\"\u001b[39;00m\n\u001b[32m     30\u001b[39m logger.info(\u001b[33mf\u001b[39m\u001b[33m\"\u001b[39m\u001b[33mRetrieving memories for query: \u001b[39m\u001b[38;5;132;01m{\u001b[39;00mquery\u001b[38;5;132;01m!r}\u001b[39;00m\u001b[33m\"\u001b[39m)\n\u001b[32m---> \u001b[39m\u001b[32m31\u001b[39m raw_hits = \u001b[38;5;28;43mself\u001b[39;49m\u001b[43m.\u001b[49m\u001b[43mmemory\u001b[49m\u001b[43m.\u001b[49m\u001b[43msearch\u001b[49m\u001b[43m(\u001b[49m\n\u001b[32m     32\u001b[39m \u001b[43m    \u001b[49m\u001b[43mquery\u001b[49m\u001b[43m,\u001b[49m\n\u001b[32m     33\u001b[39m \u001b[43m    \u001b[49m\u001b[43mversion\u001b[49m\u001b[43m=\u001b[49m\u001b[43mversion\u001b[49m\u001b[43m,\u001b[49m\n\u001b[32m     34\u001b[39m \u001b[43m    \u001b[49m\u001b[43muser_id\u001b[49m\u001b[43m=\u001b[49m\u001b[43muser_id\u001b[49m\u001b[43m,\u001b[49m\n\u001b[32m     35\u001b[39m \u001b[43m    \u001b[49m\u001b[43mkeyword_search\u001b[49m\u001b[43m=\u001b[49m\u001b[38;5;28;43;01mTrue\u001b[39;49;00m\u001b[43m,\u001b[49m\n\u001b[32m     36\u001b[39m \u001b[43m    \u001b[49m\u001b[43mrerank\u001b[49m\u001b[43m=\u001b[49m\u001b[38;5;28;43;01mTrue\u001b[39;49;00m\u001b[43m,\u001b[49m\n\u001b[32m     37\u001b[39m \u001b[43m    \u001b[49m\u001b[43mfilter_memories\u001b[49m\u001b[43m=\u001b[49m\u001b[38;5;28;43;01mFalse\u001b[39;49;00m\u001b[43m,\u001b[49m\n\u001b[32m     38\u001b[39m \u001b[43m    \u001b[49m\u001b[43mtop_k\u001b[49m\u001b[43m=\u001b[49m\u001b[43mk\u001b[49m\u001b[43m \u001b[49m\u001b[43m*\u001b[49m\u001b[43m \u001b[49m\u001b[32;43m3\u001b[39;49m\u001b[43m,\u001b[49m\n\u001b[32m     39\u001b[39m \u001b[43m\u001b[49m\u001b[43m)\u001b[49m\n\u001b[32m     40\u001b[39m now_utc = datetime.now(timezone.utc)\n\u001b[32m     42\u001b[39m \u001b[38;5;28;01mdef\u001b[39;00m\u001b[38;5;250m \u001b[39m\u001b[34mscore\u001b[39m(hit: \u001b[38;5;28mdict\u001b[39m) -> \u001b[38;5;28mfloat\u001b[39m:\n",
      "\u001b[36mFile \u001b[39m\u001b[32m/opt/anaconda3/envs/ai/lib/python3.12/site-packages/mem0/client/main.py:36\u001b[39m, in \u001b[36mapi_error_handler.<locals>.wrapper\u001b[39m\u001b[34m(*args, **kwargs)\u001b[39m\n\u001b[32m     34\u001b[39m \u001b[38;5;28;01mexcept\u001b[39;00m httpx.HTTPStatusError \u001b[38;5;28;01mas\u001b[39;00m e:\n\u001b[32m     35\u001b[39m     logger.error(\u001b[33mf\u001b[39m\u001b[33m\"\u001b[39m\u001b[33mHTTP error occurred: \u001b[39m\u001b[38;5;132;01m{\u001b[39;00me\u001b[38;5;132;01m}\u001b[39;00m\u001b[33m\"\u001b[39m)\n\u001b[32m---> \u001b[39m\u001b[32m36\u001b[39m     \u001b[38;5;28;01mraise\u001b[39;00m APIError(\u001b[33mf\u001b[39m\u001b[33m\"\u001b[39m\u001b[33mAPI request failed: \u001b[39m\u001b[38;5;132;01m{\u001b[39;00me.response.text\u001b[38;5;132;01m}\u001b[39;00m\u001b[33m\"\u001b[39m)\n\u001b[32m     37\u001b[39m \u001b[38;5;28;01mexcept\u001b[39;00m httpx.RequestError \u001b[38;5;28;01mas\u001b[39;00m e:\n\u001b[32m     38\u001b[39m     logger.error(\u001b[33mf\u001b[39m\u001b[33m\"\u001b[39m\u001b[33mRequest error occurred: \u001b[39m\u001b[38;5;132;01m{\u001b[39;00me\u001b[38;5;132;01m}\u001b[39;00m\u001b[33m\"\u001b[39m)\n",
      "\u001b[31mAPIError\u001b[39m: API request failed: {\"query\":[\"This field may not be blank.\"]}"
     ]
    }
   ],
   "source": [
    "while True:\n",
    "    msg = input(\"You ▸ \")\n",
    "    print(\"Mentor ▸\", mentor(msg))"
   ]
  },
  {
   "cell_type": "code",
   "execution_count": null,
   "metadata": {},
   "outputs": [],
   "source": []
  }
 ],
 "metadata": {
  "kernelspec": {
   "display_name": "ai",
   "language": "python",
   "name": "python3"
  },
  "language_info": {
   "codemirror_mode": {
    "name": "ipython",
    "version": 3
   },
   "file_extension": ".py",
   "mimetype": "text/x-python",
   "name": "python",
   "nbconvert_exporter": "python",
   "pygments_lexer": "ipython3",
   "version": "3.12.9"
  }
 },
 "nbformat": 4,
 "nbformat_minor": 2
}
